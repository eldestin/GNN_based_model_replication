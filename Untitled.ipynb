{
 "cells": [
  {
   "cell_type": "code",
   "execution_count": 4,
   "id": "935dde78",
   "metadata": {},
   "outputs": [],
   "source": [
    "import torch\n",
    "from torch import nn\n",
    "import math"
   ]
  },
  {
   "cell_type": "code",
   "execution_count": null,
   "id": "677e3148",
   "metadata": {},
   "outputs": [],
   "source": [
    "class Graph_conv(nn.Module):\n",
    "    '''\n",
    "    Here is an implementation of graph convolution layer\n",
    "    '''\n",
    "    def __init__(self, in_features, out_features, bias = True):\n",
    "        '''\n",
    "        A spectral-based convolution\n",
    "        '''\n",
    "        super(Graph_conv, self).__init__()\n",
    "        self.in_features = in_features\n",
    "        self.out_features = out_features\n",
    "        # weight matrix\n",
    "        self.weight = nn.Linear(in_features,out_features, bias = bias)\n",
    "        \n",
    "    def reset_parameters(self, m):\n",
    "        # use row \n",
    "        if type(m) == nn.Linear:\n",
    "            std = m.weight.size(1)\n",
    "            nn.init.uniform_(m.weight, )\n",
    "        def xavier_init_weights(m):\n",
    "        if type(m) == nn.Linear:\n",
    "            nn.init.xavier_uniform_(m.weight)"
   ]
  },
  {
   "cell_type": "code",
   "execution_count": 17,
   "id": "fd71b872",
   "metadata": {},
   "outputs": [
    {
     "data": {
      "text/plain": [
       "Parameter containing:\n",
       "tensor([[-0.6286, -0.4519],\n",
       "        [ 0.3109, -0.6330],\n",
       "        [ 0.6622, -0.4975]], requires_grad=True)"
      ]
     },
     "execution_count": 17,
     "metadata": {},
     "output_type": "execute_result"
    }
   ],
   "source": [
    "a = nn.Linear(2,3)\n",
    "a.weight"
   ]
  },
  {
   "cell_type": "code",
   "execution_count": null,
   "id": "6c7fe06d",
   "metadata": {},
   "outputs": [],
   "source": [
    "nn.Parameter(torch.FloatTensor(2,3)).size(1)"
   ]
  }
 ],
 "metadata": {
  "kernelspec": {
   "display_name": "Python 3",
   "language": "python",
   "name": "python3"
  },
  "language_info": {
   "codemirror_mode": {
    "name": "ipython",
    "version": 3
   },
   "file_extension": ".py",
   "mimetype": "text/x-python",
   "name": "python",
   "nbconvert_exporter": "python",
   "pygments_lexer": "ipython3",
   "version": "3.8.8"
  }
 },
 "nbformat": 4,
 "nbformat_minor": 5
}
